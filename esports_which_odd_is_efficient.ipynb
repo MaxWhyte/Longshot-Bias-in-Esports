{
 "cells": [
  {
   "cell_type": "markdown",
   "metadata": {},
   "source": [
    "# Longshot odd efficiency in esports gaming"
   ]
  },
  {
   "cell_type": "markdown",
   "metadata": {},
   "source": [
    "TO DO: Check Longshot bias in esports gaming"
   ]
  },
  {
   "cell_type": "markdown",
   "metadata": {},
   "source": [
    "### Let's import the packages and data from Excel file"
   ]
  },
  {
   "cell_type": "code",
   "execution_count": 1,
   "metadata": {},
   "outputs": [],
   "source": [
    "import pandas as pd\n",
    "import numpy as np\n",
    "import seaborn as sns\n",
    "import matplotlib.pylab as plt\n",
    "import warnings\n",
    "warnings.filterwarnings('ignore')"
   ]
  },
  {
   "cell_type": "code",
   "execution_count": 11,
   "metadata": {},
   "outputs": [],
   "source": [
    "df = pd.read_excel(\"WhichOddWins.xlsx\", sheet_name=\"HA_Bias_2021\", skiprows=[0])"
   ]
  },
  {
   "cell_type": "code",
   "execution_count": 12,
   "metadata": {},
   "outputs": [],
   "source": [
    "df_backup = df"
   ]
  },
  {
   "cell_type": "code",
   "execution_count": 337,
   "metadata": {},
   "outputs": [],
   "source": [
    "df = df_backup"
   ]
  },
  {
   "cell_type": "markdown",
   "metadata": {},
   "source": [
    "### Preparing the data"
   ]
  },
  {
   "cell_type": "code",
   "execution_count": 338,
   "metadata": {},
   "outputs": [],
   "source": [
    "df = df[[\"Div\", \"Date\", \"HomeTeam\", \"AwayTeam\", \"PSH\", \"PSA\", \"FTR\"]]"
   ]
  },
  {
   "cell_type": "code",
   "execution_count": 339,
   "metadata": {},
   "outputs": [],
   "source": [
    "df['Year'] = pd.DatetimeIndex(df['Date']).year"
   ]
  },
  {
   "cell_type": "code",
   "execution_count": 340,
   "metadata": {},
   "outputs": [],
   "source": [
    "df = df.dropna()\n",
    "df = df.drop(\"Date\", 1)"
   ]
  },
  {
   "cell_type": "code",
   "execution_count": 341,
   "metadata": {},
   "outputs": [],
   "source": [
    "df_orig = df"
   ]
  },
  {
   "cell_type": "code",
   "execution_count": 342,
   "metadata": {},
   "outputs": [
    {
     "data": {
      "text/html": [
       "<div>\n",
       "<style scoped>\n",
       "    .dataframe tbody tr th:only-of-type {\n",
       "        vertical-align: middle;\n",
       "    }\n",
       "\n",
       "    .dataframe tbody tr th {\n",
       "        vertical-align: top;\n",
       "    }\n",
       "\n",
       "    .dataframe thead th {\n",
       "        text-align: right;\n",
       "    }\n",
       "</style>\n",
       "<table border=\"1\" class=\"dataframe\">\n",
       "  <thead>\n",
       "    <tr style=\"text-align: right;\">\n",
       "      <th></th>\n",
       "      <th>Div</th>\n",
       "      <th>HomeTeam</th>\n",
       "      <th>AwayTeam</th>\n",
       "      <th>PSH</th>\n",
       "      <th>PSA</th>\n",
       "      <th>FTR</th>\n",
       "      <th>Year</th>\n",
       "    </tr>\n",
       "  </thead>\n",
       "  <tbody>\n",
       "    <tr>\n",
       "      <th>0</th>\n",
       "      <td>league-of-legends-lcl</td>\n",
       "      <td>Elements</td>\n",
       "      <td>H2k</td>\n",
       "      <td>3.03</td>\n",
       "      <td>1.35</td>\n",
       "      <td>A</td>\n",
       "      <td>2015.0</td>\n",
       "    </tr>\n",
       "    <tr>\n",
       "      <th>1</th>\n",
       "      <td>league-of-legends-lcl</td>\n",
       "      <td>Unicorns of Love</td>\n",
       "      <td>Origen</td>\n",
       "      <td>3.33</td>\n",
       "      <td>1.3</td>\n",
       "      <td>H</td>\n",
       "      <td>2015.0</td>\n",
       "    </tr>\n",
       "    <tr>\n",
       "      <th>2</th>\n",
       "      <td>league-of-legends-lcl</td>\n",
       "      <td>Giants Gaming</td>\n",
       "      <td>Fnatic</td>\n",
       "      <td>4.57</td>\n",
       "      <td>1.17</td>\n",
       "      <td>A</td>\n",
       "      <td>2015.0</td>\n",
       "    </tr>\n",
       "    <tr>\n",
       "      <th>3</th>\n",
       "      <td>league-of-legends-lcl</td>\n",
       "      <td>Roccat</td>\n",
       "      <td>SK Gaming</td>\n",
       "      <td>1.99</td>\n",
       "      <td>1.76</td>\n",
       "      <td>H</td>\n",
       "      <td>2015.0</td>\n",
       "    </tr>\n",
       "    <tr>\n",
       "      <th>4</th>\n",
       "      <td>league-of-legends-lcl</td>\n",
       "      <td>Gambit Esports</td>\n",
       "      <td>Copenhagen Wolves</td>\n",
       "      <td>1.28</td>\n",
       "      <td>3.45</td>\n",
       "      <td>H</td>\n",
       "      <td>2015.0</td>\n",
       "    </tr>\n",
       "  </tbody>\n",
       "</table>\n",
       "</div>"
      ],
      "text/plain": [
       "                     Div           HomeTeam            AwayTeam   PSH   PSA  \\\n",
       "0  league-of-legends-lcl          Elements                  H2k  3.03  1.35   \n",
       "1  league-of-legends-lcl  Unicorns of Love               Origen  3.33   1.3   \n",
       "2  league-of-legends-lcl     Giants Gaming               Fnatic  4.57  1.17   \n",
       "3  league-of-legends-lcl            Roccat            SK Gaming  1.99  1.76   \n",
       "4  league-of-legends-lcl    Gambit Esports    Copenhagen Wolves  1.28  3.45   \n",
       "\n",
       "  FTR    Year  \n",
       "0   A  2015.0  \n",
       "1   H  2015.0  \n",
       "2   A  2015.0  \n",
       "3   H  2015.0  \n",
       "4   H  2015.0  "
      ]
     },
     "execution_count": 342,
     "metadata": {},
     "output_type": "execute_result"
    }
   ],
   "source": [
    "# Sanity check\n",
    "df_orig.head()"
   ]
  },
  {
   "cell_type": "code",
   "execution_count": 298,
   "metadata": {},
   "outputs": [
    {
     "name": "stdout",
     "output_type": "stream",
     "text": [
      "<class 'pandas.core.frame.DataFrame'>\n",
      "Int64Index: 10978 entries, 0 to 12026\n",
      "Data columns (total 7 columns):\n",
      " #   Column    Non-Null Count  Dtype  \n",
      "---  ------    --------------  -----  \n",
      " 0   Div       10978 non-null  object \n",
      " 1   HomeTeam  10978 non-null  object \n",
      " 2   AwayTeam  10978 non-null  object \n",
      " 3   PSH       10978 non-null  object \n",
      " 4   PSA       10978 non-null  object \n",
      " 5   FTR       10978 non-null  object \n",
      " 6   Year      10978 non-null  float64\n",
      "dtypes: float64(1), object(6)\n",
      "memory usage: 686.1+ KB\n"
     ]
    }
   ],
   "source": [
    "df.info()"
   ]
  },
  {
   "cell_type": "code",
   "execution_count": 299,
   "metadata": {},
   "outputs": [],
   "source": [
    "# Sanity check again again\n",
    "leagues = df[\"Div\"].unique()\n",
    "leagues = sorted(leagues, key=str.lower)"
   ]
  },
  {
   "cell_type": "code",
   "execution_count": 308,
   "metadata": {},
   "outputs": [],
   "source": [
    "leagues = ['Counter-Strike ESL Pro League',\n",
    " 'counter-strike-perfect-world-league-season-1']"
   ]
  },
  {
   "cell_type": "code",
   "execution_count": 335,
   "metadata": {},
   "outputs": [
    {
     "data": {
      "text/plain": [
       "numpy.ndarray"
      ]
     },
     "execution_count": 335,
     "metadata": {},
     "output_type": "execute_result"
    }
   ],
   "source": [
    "teams_home = df[\"HomeTeam\"].unique()\n",
    "teams_away = df[\"AwayTeam\"].unique()\n",
    "teams = np.concatenate((teams_home, teams_away), axis=None)\n",
    "type(teams)"
   ]
  },
  {
   "cell_type": "code",
   "execution_count": 332,
   "metadata": {},
   "outputs": [
    {
     "ename": "AttributeError",
     "evalue": "'int' object has no attribute 'strip'",
     "output_type": "error",
     "traceback": [
      "\u001b[1;31m---------------------------------------------------------------------------\u001b[0m",
      "\u001b[1;31mAttributeError\u001b[0m                            Traceback (most recent call last)",
      "\u001b[1;32m<ipython-input-332-0f2c32a192cb>\u001b[0m in \u001b[0;36m<module>\u001b[1;34m\u001b[0m\n\u001b[1;32m----> 1\u001b[1;33m \u001b[0mteams\u001b[0m \u001b[1;33m=\u001b[0m \u001b[1;33m[\u001b[0m\u001b[0mx\u001b[0m\u001b[1;33m.\u001b[0m\u001b[0mstrip\u001b[0m\u001b[1;33m(\u001b[0m\u001b[1;33m)\u001b[0m \u001b[1;32mfor\u001b[0m \u001b[0mx\u001b[0m \u001b[1;32min\u001b[0m \u001b[0mteams\u001b[0m\u001b[1;33m]\u001b[0m\u001b[1;33m\u001b[0m\u001b[1;33m\u001b[0m\u001b[0m\n\u001b[0m\u001b[0;32m      2\u001b[0m \u001b[1;33m\u001b[0m\u001b[0m\n\u001b[0;32m      3\u001b[0m \u001b[0mteams\u001b[0m \u001b[1;33m=\u001b[0m \u001b[0mlist\u001b[0m\u001b[1;33m(\u001b[0m\u001b[0mdict\u001b[0m\u001b[1;33m.\u001b[0m\u001b[0mfromkeys\u001b[0m\u001b[1;33m(\u001b[0m\u001b[0mteams\u001b[0m\u001b[1;33m)\u001b[0m\u001b[1;33m)\u001b[0m\u001b[1;33m\u001b[0m\u001b[1;33m\u001b[0m\u001b[0m\n\u001b[0;32m      4\u001b[0m \u001b[0mlen\u001b[0m\u001b[1;33m(\u001b[0m\u001b[0mteams\u001b[0m\u001b[1;33m)\u001b[0m\u001b[1;33m\u001b[0m\u001b[1;33m\u001b[0m\u001b[0m\n",
      "\u001b[1;32m<ipython-input-332-0f2c32a192cb>\u001b[0m in \u001b[0;36m<listcomp>\u001b[1;34m(.0)\u001b[0m\n\u001b[1;32m----> 1\u001b[1;33m \u001b[0mteams\u001b[0m \u001b[1;33m=\u001b[0m \u001b[1;33m[\u001b[0m\u001b[0mx\u001b[0m\u001b[1;33m.\u001b[0m\u001b[0mstrip\u001b[0m\u001b[1;33m(\u001b[0m\u001b[1;33m)\u001b[0m \u001b[1;32mfor\u001b[0m \u001b[0mx\u001b[0m \u001b[1;32min\u001b[0m \u001b[0mteams\u001b[0m\u001b[1;33m]\u001b[0m\u001b[1;33m\u001b[0m\u001b[1;33m\u001b[0m\u001b[0m\n\u001b[0m\u001b[0;32m      2\u001b[0m \u001b[1;33m\u001b[0m\u001b[0m\n\u001b[0;32m      3\u001b[0m \u001b[0mteams\u001b[0m \u001b[1;33m=\u001b[0m \u001b[0mlist\u001b[0m\u001b[1;33m(\u001b[0m\u001b[0mdict\u001b[0m\u001b[1;33m.\u001b[0m\u001b[0mfromkeys\u001b[0m\u001b[1;33m(\u001b[0m\u001b[0mteams\u001b[0m\u001b[1;33m)\u001b[0m\u001b[1;33m)\u001b[0m\u001b[1;33m\u001b[0m\u001b[1;33m\u001b[0m\u001b[0m\n\u001b[0;32m      4\u001b[0m \u001b[0mlen\u001b[0m\u001b[1;33m(\u001b[0m\u001b[0mteams\u001b[0m\u001b[1;33m)\u001b[0m\u001b[1;33m\u001b[0m\u001b[1;33m\u001b[0m\u001b[0m\n",
      "\u001b[1;31mAttributeError\u001b[0m: 'int' object has no attribute 'strip'"
     ]
    }
   ],
   "source": [
    "df = df[df[\"Div\"] == \"Counter-Strike ESL Pro League\"]\n",
    "df = df[df[\"Year\"] == 2021.0]\n",
    "\n",
    "teams_home = df[\"HomeTeam\"].unique()\n",
    "teams_away = df[\"AwayTeam\"].unique()\n",
    "teams = np.concatenate((teams_home, teams_away), axis=None)\n",
    "teams = [x.strip() for x in teams]\n",
    "teams = list(dict.fromkeys(teams))\n",
    "\n",
    "len(teams)\n"
   ]
  },
  {
   "cell_type": "code",
   "execution_count": 347,
   "metadata": {},
   "outputs": [
    {
     "name": "stdout",
     "output_type": "stream",
     "text": [
      "Counter-Strike ESL Pro League\n",
      "2021\n",
      "Team Liquid\n",
      "Team Team Liquid has probs of 0.55 but wins with probs of 0.67 1.8933333333333333 1.7533333333333332 2\n",
      "FURIA\n",
      "Team FURIA has probs of 0.46 but wins with probs of 0.7 2.09 2.2183333333333333 2\n",
      "compLexity Gaming\n",
      "Team compLexity Gaming has probs of 0.57 but wins with probs of 0.62 1.9475 1.575 2\n",
      "Virtus.pro\n",
      "Team Virtus.pro has probs of 0.67 but wins with probs of 0.57 1.33 1.6624999999999999 2\n",
      "Gambit Esports\n",
      "Team Gambit Esports has probs of 0.68 but wins with probs of 0.88 1.4779999999999998 1.45 2\n",
      "Heroic\n",
      "Team Heroic has probs of 0.61 but wins with probs of 1.0 1.508 1.7599999999999998 2\n",
      "Astralis\n",
      "Team Astralis has probs of 0.6 but wins with probs of 0.5 1.44 1.88 2\n",
      "Ninjas in Pyjamas\n",
      "Team Ninjas in Pyjamas has probs of 0.43 but wins with probs of 0.62 2.1266666666666665 2.572 2\n",
      "BIG\n",
      "Team BIG has probs of 0.58 but wins with probs of 0.2 1.73 0 1\n",
      "FunPlus Phoenix\n",
      "Team FunPlus Phoenix has probs of 0.55 but wins with probs of 0.5 1.25 2.412 2\n",
      "Renegades\n",
      "Team Renegades has probs of 0.18 but wins with probs of 0.2 6.290000000000001 5.033333333333333 2\n",
      "OG\n",
      "Team OG has probs of 0.42 but wins with probs of 0.4 2.485 2.2666666666666666 2\n",
      "Team Vitality\n",
      "Team Team Vitality has probs of 0.66 but wins with probs of 0.4 1.526 0 1\n",
      "G2 Esports\n",
      "Team G2 Esports has probs of 0.59 but wins with probs of 0.57 1.55 1.8499999999999999 2\n",
      "mousesports\n",
      "Team mousesports has probs of 0.48 but wins with probs of 0.2 1.725 2.46 2\n",
      "ENCE\n",
      "Team ENCE has probs of 0.39 but wins with probs of 0.5 2.425 2.645 2\n",
      "FaZe Clan\n",
      "Team FaZe Clan has probs of 0.47 but wins with probs of 0.4 2.11 2.1775 2\n",
      "NaVi\n",
      "Team NaVi has probs of 0.68 but wins with probs of 0.5 1.36 1.57 2\n",
      "MIBR\n",
      "Team MIBR has probs of 0.28 but wins with probs of 0.25 2.315 4.77 2\n",
      "Team One\n",
      "Team Team One has probs of 0.14 but wins with probs of 0.0 6.880000000000001 6.963333333333334 2\n",
      "Cloud9\n",
      "Team Cloud9 has probs of 0.35 but wins with probs of 0.5 2.59 3.1566666666666663 2\n",
      "Endpoint\n",
      "Team Endpoint has probs of 0.26 but wins with probs of 0.4 2.935 4.653333333333333 2\n",
      "Fnatic\n",
      "Team Fnatic has probs of 0.35 but wins with probs of 0.2 2.94 2.8466666666666662 2\n",
      "Evil Geniuses\n",
      "Team Evil Geniuses has probs of 0.44 but wins with probs of 0.2 1.815 2.69 2\n",
      "counter-strike-perfect-world-league-season-1\n",
      "2021\n",
      "ViCi Gaming\n",
      "Team ViCi Gaming has probs of 0.59 but wins with probs of 0.88 1.2083333333333335 2.165 2\n",
      "Invictus Gaming\n",
      "Team Invictus Gaming has probs of 0.34 but wins with probs of 0.38 1.55 4.255 2\n",
      "TyLoo\n",
      "Team TyLoo has probs of 0.74 but wins with probs of 0.83 1.3499999999999999 0 1\n",
      "Renewal\n",
      "Team Renewal has probs of 0.38 but wins with probs of 0.0 1.55 3.71 2\n",
      "D13\n",
      "Team D13 has probs of 0.33 but wins with probs of 0.33 1.14 4.925 2\n",
      "Wings Up\n",
      "Team Wings Up has probs of 0.41 but wins with probs of 0.43 1.65 3.276666666666667 2\n",
      "New Happy\n",
      "Team New Happy has probs of 0.18 but wins with probs of 0.0 0 5.535 1\n",
      "CheckMate eSports (Counter Strike)\n",
      "Team CheckMate eSports (Counter Strike) has probs of 0.31 but wins with probs of 0.33 0 3.176666666666667 1\n"
     ]
    }
   ],
   "source": [
    "\n",
    "\n",
    "for league in leagues:\n",
    "    df = df_orig\n",
    "    df = df[df[\"Div\"] == league]\n",
    "    df = df[df[\"Year\"] == 2021.0]\n",
    "    #prob = 0\n",
    "    #res = 0\n",
    "    print(league)\n",
    "\n",
    "\n",
    "    for years in range(2021, 2022):\n",
    "        print(years)\n",
    "        \n",
    "        teams_home = df[\"HomeTeam\"].unique()\n",
    "        teams_away = df[\"AwayTeam\"].unique()\n",
    "        teams = np.concatenate((teams_home, teams_away), axis=None)\n",
    "        teams = [x.strip() for x in teams]\n",
    "        teams = list(dict.fromkeys(teams))\n",
    "\n",
    "        for team in teams:\n",
    "            print(team)\n",
    "            div = (df[\"Div\"] == league)\n",
    "            year = (df[\"Year\"] == years)\n",
    "            team_ = (df[\"HomeTeam\"] == team)\n",
    "            team_home_win = (df[\"FTR\"] == \"H\")\n",
    "            df_filtered = df[year & div & team_]\n",
    "            count_home = df_filtered[\"FTR\"].count()\n",
    "            count_home_win = df_filtered[df_filtered[\"FTR\"] == \"H\"].shape[0]\n",
    "            \n",
    "            if df_filtered[\"PSH\"].shape[0] > 0:\n",
    "                odds_home = df_filtered[\"PSH\"].sum()/count_home\n",
    "            else:\n",
    "                odds_home = 0\n",
    "                \n",
    "            df_filtered = df[year & div & team_ & team_home_win]\n",
    "            wins_home = df_filtered[\"PSH\"].mean()\n",
    "            \n",
    "            div = (df[\"Div\"] == league)\n",
    "            year = (df[\"Year\"] == years)\n",
    "            team_ = (df[\"AwayTeam\"] == team)\n",
    "            team_away_win = (df[\"FTR\"] == \"A\")\n",
    "            df_filtered = df[year & div & team_]\n",
    "            count_away = df_filtered[\"FTR\"].count()\n",
    "            count_away_win = df_filtered[df_filtered[\"FTR\"] == \"A\"].shape[0]\n",
    "            \n",
    "            if df_filtered[\"PSA\"].shape[0] > 0:\n",
    "                odds_away = df_filtered[\"PSA\"].sum()/count_away\n",
    "            else:\n",
    "                odds_away = 0\n",
    "                \n",
    "            if (odds_away == 0) or (odds_home == 0):\n",
    "                divide_by = 1\n",
    "            else:\n",
    "                divide_by = 2\n",
    "            \n",
    "            df_filtered = df[year & div & team_ & team_away_win]\n",
    "            wins_away = df_filtered[\"PSA\"].mean()\n",
    "            \n",
    "            wins = (count_home_win + count_away_win)\n",
    "            matches = (count_home + count_away)\n",
    "            prob_winning = round(1/((odds_home+odds_away)/divide_by),2)\n",
    "            result_winning = round(wins/matches,2)\n",
    "            \n",
    "            #prob += prob_winning\n",
    "            #res += result_winning\n",
    "            \n",
    "            print(\"Team\", team, \"has probs of\", prob_winning, \"but wins with probs of\", result_winning, odds_home, odds_away, divide_by)\n",
    "            \n",
    "            \n",
    "\n",
    "#    print(prob, res)"
   ]
  },
  {
   "cell_type": "code",
   "execution_count": 291,
   "metadata": {},
   "outputs": [
    {
     "data": {
      "text/plain": [
       "array([], dtype=object)"
      ]
     },
     "execution_count": 291,
     "metadata": {},
     "output_type": "execute_result"
    }
   ],
   "source": [
    "teams_home"
   ]
  },
  {
   "cell_type": "code",
   "execution_count": 225,
   "metadata": {},
   "outputs": [
    {
     "data": {
      "text/plain": [
       "float"
      ]
     },
     "execution_count": 225,
     "metadata": {},
     "output_type": "execute_result"
    }
   ],
   "source": [
    "type(odds_home)"
   ]
  },
  {
   "cell_type": "code",
   "execution_count": null,
   "metadata": {},
   "outputs": [],
   "source": []
  }
 ],
 "metadata": {
  "kernelspec": {
   "display_name": "Python 3",
   "language": "python",
   "name": "python3"
  },
  "language_info": {
   "codemirror_mode": {
    "name": "ipython",
    "version": 3
   },
   "file_extension": ".py",
   "mimetype": "text/x-python",
   "name": "python",
   "nbconvert_exporter": "python",
   "pygments_lexer": "ipython3",
   "version": "3.8.10"
  }
 },
 "nbformat": 4,
 "nbformat_minor": 4
}
